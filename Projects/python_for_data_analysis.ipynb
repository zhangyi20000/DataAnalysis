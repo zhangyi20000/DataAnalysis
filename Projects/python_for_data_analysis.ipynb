{
 "cells": [
  {
   "cell_type": "code",
   "execution_count": 1,
   "id": "1040b469-1f1d-4cbf-ac57-1050e4eea29d",
   "metadata": {},
   "outputs": [
    {
     "data": {
      "text/plain": [
       "'D:\\\\Documents\\\\DataAnalysis\\\\Projects'"
      ]
     },
     "execution_count": 1,
     "metadata": {},
     "output_type": "execute_result"
    }
   ],
   "source": [
    "%pwd"
   ]
  },
  {
   "cell_type": "code",
   "execution_count": 3,
   "id": "e181f477-fef1-4c24-97a3-5af0df65caa6",
   "metadata": {},
   "outputs": [],
   "source": [
    "def func_with_key(a=1,b=2,c=3):\n",
    "    return a,b,c"
   ]
  },
  {
   "cell_type": "code",
   "execution_count": 5,
   "id": "843ce8b6-c5a2-425a-8098-d3910516f3d1",
   "metadata": {},
   "outputs": [
    {
     "data": {
      "text/plain": [
       "(1, 2, 3)"
      ]
     },
     "execution_count": 5,
     "metadata": {},
     "output_type": "execute_result"
    }
   ],
   "source": [
    "func_with_key(a=1,b=2,c=3)"
   ]
  },
  {
   "cell_type": "code",
   "execution_count": 11,
   "id": "599045f1-4257-45d4-b463-62276a7c295d",
   "metadata": {},
   "outputs": [],
   "source": [
    "def add_numbers(a, b):\n",
    "    \"\"\"\n",
    "    Add two numbers together\n",
    "\n",
    "    Returns\n",
    "    -------\n",
    "    the_sum : type of arguments\n",
    "    \"\"\"\n",
    "    return a + b"
   ]
  },
  {
   "cell_type": "code",
   "execution_count": 13,
   "id": "9d41dd88-4380-49d0-8978-5b61e4d69c2b",
   "metadata": {},
   "outputs": [
    {
     "data": {
      "text/plain": [
       "\u001b[1;31mSignature:\u001b[0m \u001b[0madd_numbers\u001b[0m\u001b[1;33m(\u001b[0m\u001b[0ma\u001b[0m\u001b[1;33m,\u001b[0m \u001b[0mb\u001b[0m\u001b[1;33m)\u001b[0m\u001b[1;33m\u001b[0m\u001b[1;33m\u001b[0m\u001b[0m\n",
       "\u001b[1;31mDocstring:\u001b[0m\n",
       "Add two numbers together\n",
       "\n",
       "Returns\n",
       "-------\n",
       "the_sum : type of arguments\n",
       "\u001b[1;31mFile:\u001b[0m      c:\\users\\61909\\appdata\\local\\temp\\ipykernel_19440\\1411870314.py\n",
       "\u001b[1;31mType:\u001b[0m      function"
      ]
     },
     "metadata": {},
     "output_type": "display_data"
    }
   ],
   "source": [
    "add_numbers?"
   ]
  },
  {
   "cell_type": "code",
   "execution_count": 15,
   "id": "09f77c9f-cc16-4df3-912a-2db441560762",
   "metadata": {},
   "outputs": [
    {
     "data": {
      "text/plain": [
       "\u001b[1;31mSignature:\u001b[0m \u001b[0madd_numbers\u001b[0m\u001b[1;33m(\u001b[0m\u001b[0ma\u001b[0m\u001b[1;33m,\u001b[0m \u001b[0mb\u001b[0m\u001b[1;33m)\u001b[0m\u001b[1;33m\u001b[0m\u001b[1;33m\u001b[0m\u001b[0m\n",
       "\u001b[1;31mSource:\u001b[0m   \n",
       "\u001b[1;32mdef\u001b[0m \u001b[0madd_numbers\u001b[0m\u001b[1;33m(\u001b[0m\u001b[0ma\u001b[0m\u001b[1;33m,\u001b[0m \u001b[0mb\u001b[0m\u001b[1;33m)\u001b[0m\u001b[1;33m:\u001b[0m\u001b[1;33m\n",
       "\u001b[0m    \u001b[1;34m\"\"\"\n",
       "    Add two numbers together\n",
       "\n",
       "    Returns\n",
       "    -------\n",
       "    the_sum : type of arguments\n",
       "    \"\"\"\u001b[0m\u001b[1;33m\n",
       "\u001b[0m    \u001b[1;32mreturn\u001b[0m \u001b[0ma\u001b[0m \u001b[1;33m+\u001b[0m \u001b[0mb\u001b[0m\u001b[1;33m\u001b[0m\u001b[1;33m\u001b[0m\u001b[0m\n",
       "\u001b[1;31mFile:\u001b[0m      c:\\users\\61909\\appdata\\local\\temp\\ipykernel_19440\\1411870314.py\n",
       "\u001b[1;31mType:\u001b[0m      function"
      ]
     },
     "metadata": {},
     "output_type": "display_data"
    }
   ],
   "source": [
    "add_numbers??"
   ]
  },
  {
   "cell_type": "code",
   "execution_count": 17,
   "id": "0baea205-f7c2-48a7-a19e-72367da9478b",
   "metadata": {},
   "outputs": [],
   "source": [
    "def append_ele(some_list,ele):\n",
    "    some_list.append(ele)"
   ]
  },
  {
   "cell_type": "code",
   "execution_count": 37,
   "id": "63a01da7-e87d-46df-b5da-53c4e1c4c8a8",
   "metadata": {},
   "outputs": [
    {
     "data": {
      "text/plain": [
       "[1, 2, 3, 4]"
      ]
     },
     "execution_count": 37,
     "metadata": {},
     "output_type": "execute_result"
    }
   ],
   "source": [
    "data=[1,2,3]\n",
    "data2=data\n",
    "append_ele(data,4)\n",
    "data"
   ]
  },
  {
   "cell_type": "code",
   "execution_count": 39,
   "id": "56e6cf91-c491-4bc7-9fba-36ccb6959a90",
   "metadata": {},
   "outputs": [
    {
     "data": {
      "text/plain": [
       "[1, 2, 3, 4]"
      ]
     },
     "execution_count": 39,
     "metadata": {},
     "output_type": "execute_result"
    }
   ],
   "source": [
    "data2"
   ]
  },
  {
   "cell_type": "code",
   "execution_count": 41,
   "id": "bfc687f0-d18c-4083-847e-48cda4cf1197",
   "metadata": {},
   "outputs": [],
   "source": [
    "a='foo'"
   ]
  },
  {
   "cell_type": "code",
   "execution_count": 1,
   "id": "367598fc-d641-41bc-939f-a36b7bd4a275",
   "metadata": {},
   "outputs": [
    {
     "data": {
      "text/plain": [
       "[3, 7, 5, 6]"
      ]
     },
     "execution_count": 1,
     "metadata": {},
     "output_type": "execute_result"
    }
   ],
   "source": [
    "seq = [7, 2, 3, 7, 5, 6, 0, 1]\n",
    "seq[-6:-2]"
   ]
  },
  {
   "cell_type": "code",
   "execution_count": 1,
   "id": "5ed371f2-c790-4843-9473-8d5581fbac31",
   "metadata": {},
   "outputs": [],
   "source": [
    "import numpy as np\n",
    "import random"
   ]
  },
  {
   "cell_type": "code",
   "execution_count": 11,
   "id": "d4b0e76b-e9bc-40f6-b4ed-983596b45c10",
   "metadata": {},
   "outputs": [
    {
     "data": {
      "text/plain": [
       "array([ -1,   0,   1,   0,  -1,  -2,  -1,   0,   1,   2,   3,   4,   3,\n",
       "         2,   3,   2,   1,   0,  -1,   0,  -1,  -2,  -3,  -2,  -1,   0,\n",
       "         1,   0,  -1,   0,   1,   0,  -1,   0,   1,   0,   1,   0,  -1,\n",
       "        -2,  -3,  -4,  -3,  -4,  -5,  -4,  -3,  -4,  -5,  -6,  -5,  -6,\n",
       "        -5,  -4,  -5,  -4,  -5,  -4,  -5,  -6,  -5,  -6,  -7,  -6,  -7,\n",
       "        -6,  -5,  -4,  -5,  -4,  -5,  -4,  -5,  -4,  -3,  -4,  -3,  -2,\n",
       "        -1,   0,  -1,   0,   1,   0,  -1,   0,   1,   0,   1,   2,   3,\n",
       "         4,   3,   2,   1,   2,   3,   2,   3,   4,   3,   4,   5,   6,\n",
       "         5,   4,   5,   6,   5,   4,   5,   6,   7,   8,   9,  10,  11,\n",
       "        10,   9,  10,   9,   8,   7,   8,   7,   6,   7,   6,   5,   6,\n",
       "         7,   8,   7,   8,   7,   8,   9,   8,   7,   8,   9,  10,   9,\n",
       "        10,  11,  10,   9,   8,   7,   8,   7,   8,   9,   8,   9,   8,\n",
       "         7,   8,   9,   8,   7,   8,   7,   6,   5,   4,   5,   4,   3,\n",
       "         2,   1,   2,   3,   2,   3,   4,   5,   4,   5,   6,   5,   4,\n",
       "         3,   2,   3,   4,   3,   4,   3,   4,   3,   2,   1,   2,   3,\n",
       "         2,   3,   4,   3,   2,   1,   0,   1,   2,   3,   2,   1,   0,\n",
       "         1,   0,  -1,   0,   1,   2,   1,   0,   1,   2,   1,   2,   3,\n",
       "         2,   1,   2,   3,   2,   3,   4,   3,   2,   1,   0,   1,   2,\n",
       "         1,   0,   1,   0,   1,   0,  -1,  -2,  -3,  -2,  -3,  -4,  -5,\n",
       "        -6,  -7,  -8,  -9,  -8,  -9,  -8,  -9,  -8,  -9, -10,  -9, -10,\n",
       "        -9, -10, -11, -12, -13, -14, -15, -14, -13, -14, -13, -14, -15,\n",
       "       -14, -13, -12, -11, -12, -13, -12, -13, -12, -13, -12, -11, -10,\n",
       "       -11, -10, -11, -10, -11, -12, -13, -12, -11, -10,  -9,  -8,  -7,\n",
       "        -6,  -5,  -4,  -3,  -4,  -3,  -4,  -3,  -2,  -3,  -4,  -5,  -6,\n",
       "        -7,  -6,  -7,  -8,  -9,  -8,  -7,  -8,  -7,  -6,  -5,  -4,  -5,\n",
       "        -4,  -3,  -2,  -1,   0,  -1,  -2,  -3,  -2,  -1,  -2,  -1,  -2,\n",
       "        -1,   0,   1,   2,   3,   2,   1,   2,   3,   4,   3,   2,   3,\n",
       "         2,   1,   0,  -1,  -2,  -1,  -2,  -3,  -4,  -5,  -6,  -5,  -4,\n",
       "        -3,  -4,  -5,  -4,  -3,  -4,  -5,  -4,  -3,  -4,  -3,  -4,  -5,\n",
       "        -6,  -5,  -4,  -3,  -2,  -3,  -4,  -5,  -4,  -5,  -6,  -5,  -4,\n",
       "        -3,  -4,  -5,  -6,  -7,  -6,  -5,  -4,  -5,  -4,  -3,  -2,  -3,\n",
       "        -4,  -5,  -6,  -5,  -4,  -5,  -6,  -7,  -6,  -7,  -8,  -7,  -6,\n",
       "        -5,  -6,  -5,  -6,  -7,  -6,  -5,  -4,  -3,  -4,  -3,  -2,  -1,\n",
       "         0,  -1,  -2,  -3,  -2,  -3,  -4,  -3,  -2,  -1,  -2,  -1,   0,\n",
       "         1,   0,  -1,   0,   1,   2,   1,   2,   1,   2,   3,   4,   3,\n",
       "         2,   1,   2,   3,   4,   3,   2,   1,   0,   1,   2,   3,   4,\n",
       "         3,   4,   3,   4,   5,   6,   7,   6,   5,   4,   3,   4,   3,\n",
       "         4,   5,   6,   7,   8,   9,  10,  11,  12,  11,  12,  13,  14,\n",
       "        15,  16,  15,  16,  17,  18,  19,  20,  21,  20,  21,  22,  23,\n",
       "        22,  23,  22,  23,  22,  21,  22,  21,  22,  23,  24,  25,  24,\n",
       "        23,  22,  21,  22,  21,  20,  19,  18,  17,  18,  17,  16,  15,\n",
       "        14,  15,  16,  15,  14,  15,  16,  17,  18,  19,  18,  19,  20,\n",
       "        21,  20,  19,  20,  21,  20,  19,  18,  19,  20,  21,  22,  23,\n",
       "        24,  23,  22,  23,  22,  21,  20,  19,  20,  21,  22,  21,  22,\n",
       "        23,  24,  25,  24,  25,  24,  23,  22,  23,  24,  25,  26,  25,\n",
       "        26,  27,  28,  27,  26,  25,  26,  25,  24,  23,  22,  23,  22,\n",
       "        23,  24,  25,  26,  25,  26,  27,  28,  29,  30,  31,  30,  29,\n",
       "        28,  27,  26,  25,  26,  25,  24,  25,  24,  25,  24,  25,  26,\n",
       "        25,  24,  25,  24,  25,  24,  25,  26,  25,  24,  25,  24,  23,\n",
       "        24,  25,  24,  25,  24,  23,  22,  23,  22,  23,  24,  25,  26,\n",
       "        27,  28,  27,  26,  25,  26,  27,  26,  27,  26,  25,  24,  23,\n",
       "        24,  23,  24,  25,  26,  25,  26,  27,  26,  25,  26,  27,  26,\n",
       "        27,  26,  27,  26,  25,  26,  25,  26,  27,  26,  27,  26,  25,\n",
       "        24,  25,  26,  25,  26,  27,  28,  29,  28,  29,  28,  27,  26,\n",
       "        25,  24,  25,  26,  27,  26,  25,  26,  27,  26,  25,  26,  25,\n",
       "        24,  23,  24,  23,  22,  23,  22,  21,  22,  21,  22,  21,  20,\n",
       "        19,  18,  17,  18,  17,  18,  17,  18,  19,  20,  19,  18,  17,\n",
       "        16,  15,  14,  13,  12,  13,  12,  11,  10,   9,   8,   7,   6,\n",
       "         7,   8,   7,   8,   7,   8,   9,   8,   7,   6,   7,   8,   9,\n",
       "         8,   9,  10,   9,  10,  11,  10,   9,  10,   9,   8,   7,   6,\n",
       "         7,   8,   9,  10,   9,  10,  11,  10,  11,  12,  13,  12,  11,\n",
       "        10,   9,  10,  11,  12,  11,  12,  13,  14,  15,  14,  15,  14,\n",
       "        13,  12,  11,  10,  11,  10,  11,  10,  11,  10,   9,   8,   9,\n",
       "         8,   7,   6,   7,   6,   5,   4,   3,   2,   3,   4,   3,   2,\n",
       "         3,   4,   3,   2,   3,   2,   3,   4,   5,   4,   5,   6,   7,\n",
       "         8,   9,   8,   7,   8,   7,   8,   7,   8,   9,   8,   9,  10,\n",
       "         9,   8,   9,  10,  11,  12,  11,  10,  11,  10,   9,   8,   9,\n",
       "        10,  11,  10,   9,   8,   9,   8,   9,   8,   9,  10,  11,  12,\n",
       "        13,  12,  13,  12,  13,  14,  15,  14,  13,  14,  13,  12,  11,\n",
       "        12,  13,  12,  11,  10,   9,   8,   7,   8,   7,   6,   5,   6,\n",
       "         5,   4,   3,   2,   3,   2,   3,   2,   3,   4,   3,   2,   1,\n",
       "         0,  -1,   0,   1,   2,   1,   0,   1,   0,  -1,  -2,  -1,   0,\n",
       "        -1,  -2,  -3,  -4,  -3,  -4,  -5,  -6,  -7,  -6,  -7,  -8,  -7,\n",
       "        -8,  -7,  -6,  -7,  -8,  -9,  -8,  -9, -10,  -9, -10,  -9,  -8,\n",
       "        -9, -10, -11, -10,  -9, -10,  -9,  -8,  -9, -10,  -9,  -8,  -7,\n",
       "        -8,  -9, -10,  -9,  -8,  -7,  -6,  -7,  -8,  -9,  -8,  -9,  -8,\n",
       "        -9, -10,  -9, -10,  -9, -10, -11, -12, -13, -12, -11, -12])"
      ]
     },
     "execution_count": 11,
     "metadata": {},
     "output_type": "execute_result"
    }
   ],
   "source": [
    "steps=1000\n",
    "draws=np.random.randint(-1,1,steps)\n",
    "steps=np.where(draws<0,-1,1)\n",
    "steps.cumsum()"
   ]
  },
  {
   "cell_type": "code",
   "execution_count": 3,
   "id": "1fbd1cf8-2835-4056-abfe-dd63aa828e67",
   "metadata": {},
   "outputs": [],
   "source": [
    "import pandas as pd\n",
    "import numpy as np"
   ]
  },
  {
   "cell_type": "code",
   "execution_count": 9,
   "id": "073b0a15-240b-440c-99c8-c0d174c67aa4",
   "metadata": {},
   "outputs": [
    {
     "data": {
      "text/plain": [
       "0    0\n",
       "1    1\n",
       "2    2\n",
       "3    3\n",
       "4    4\n",
       "dtype: int32"
      ]
     },
     "execution_count": 9,
     "metadata": {},
     "output_type": "execute_result"
    }
   ],
   "source": [
    "sers=pd.Series(np.arange(5))\n",
    "sers"
   ]
  },
  {
   "cell_type": "code",
   "execution_count": 13,
   "id": "90256813-47cc-494c-b9e6-e823920c540f",
   "metadata": {},
   "outputs": [
    {
     "data": {
      "text/plain": [
       "0    0\n",
       "1    1\n",
       "2    2\n",
       "dtype: int32"
      ]
     },
     "execution_count": 13,
     "metadata": {},
     "output_type": "execute_result"
    }
   ],
   "source": [
    "sers.loc[:2]"
   ]
  },
  {
   "cell_type": "code",
   "execution_count": 1,
   "id": "7993ea38-3198-4dff-b225-e3335e6f7ee7",
   "metadata": {},
   "outputs": [
    {
     "name": "stdout",
     "output_type": "stream",
     "text": [
      "Defaulting to user installation because normal site-packages is not writeable\n",
      "Collecting pandas-datareader\n",
      "  Downloading pandas_datareader-0.10.0-py3-none-any.whl.metadata (2.9 kB)\n",
      "Requirement already satisfied: lxml in c:\\programdata\\anaconda3\\lib\\site-packages (from pandas-datareader) (5.2.1)\n",
      "Requirement already satisfied: pandas>=0.23 in c:\\programdata\\anaconda3\\lib\\site-packages (from pandas-datareader) (2.2.2)\n",
      "Requirement already satisfied: requests>=2.19.0 in c:\\programdata\\anaconda3\\lib\\site-packages (from pandas-datareader) (2.32.3)\n",
      "Requirement already satisfied: numpy>=1.26.0 in c:\\programdata\\anaconda3\\lib\\site-packages (from pandas>=0.23->pandas-datareader) (1.26.4)\n",
      "Requirement already satisfied: python-dateutil>=2.8.2 in c:\\programdata\\anaconda3\\lib\\site-packages (from pandas>=0.23->pandas-datareader) (2.9.0.post0)\n",
      "Requirement already satisfied: pytz>=2020.1 in c:\\programdata\\anaconda3\\lib\\site-packages (from pandas>=0.23->pandas-datareader) (2024.1)\n",
      "Requirement already satisfied: tzdata>=2022.7 in c:\\programdata\\anaconda3\\lib\\site-packages (from pandas>=0.23->pandas-datareader) (2023.3)\n",
      "Requirement already satisfied: charset-normalizer<4,>=2 in c:\\programdata\\anaconda3\\lib\\site-packages (from requests>=2.19.0->pandas-datareader) (3.3.2)\n",
      "Requirement already satisfied: idna<4,>=2.5 in c:\\programdata\\anaconda3\\lib\\site-packages (from requests>=2.19.0->pandas-datareader) (3.7)\n",
      "Requirement already satisfied: urllib3<3,>=1.21.1 in c:\\programdata\\anaconda3\\lib\\site-packages (from requests>=2.19.0->pandas-datareader) (2.2.3)\n",
      "Requirement already satisfied: certifi>=2017.4.17 in c:\\programdata\\anaconda3\\lib\\site-packages (from requests>=2.19.0->pandas-datareader) (2025.1.31)\n",
      "Requirement already satisfied: six>=1.5 in c:\\programdata\\anaconda3\\lib\\site-packages (from python-dateutil>=2.8.2->pandas>=0.23->pandas-datareader) (1.16.0)\n",
      "Downloading pandas_datareader-0.10.0-py3-none-any.whl (109 kB)\n",
      "Installing collected packages: pandas-datareader\n",
      "Successfully installed pandas-datareader-0.10.0\n",
      "Note: you may need to restart the kernel to use updated packages.\n"
     ]
    }
   ],
   "source": [
    "pip install pandas-datareader"
   ]
  },
  {
   "cell_type": "code",
   "execution_count": 1,
   "id": "2353bef5-e813-4115-bac8-a18145b1532f",
   "metadata": {},
   "outputs": [
    {
     "ename": "AttributeError",
     "evalue": "'NoneType' object has no attribute 'group'",
     "output_type": "error",
     "traceback": [
      "\u001b[1;31m---------------------------------------------------------------------------\u001b[0m",
      "\u001b[1;31mAttributeError\u001b[0m                            Traceback (most recent call last)",
      "Cell \u001b[1;32mIn[1], line 2\u001b[0m\n\u001b[0;32m      1\u001b[0m \u001b[38;5;28;01mimport\u001b[39;00m \u001b[38;5;21;01mpandas_datareader\u001b[39;00m\u001b[38;5;21;01m.\u001b[39;00m\u001b[38;5;21;01mdata\u001b[39;00m \u001b[38;5;28;01mas\u001b[39;00m \u001b[38;5;21;01mweb\u001b[39;00m\n\u001b[1;32m----> 2\u001b[0m all_data \u001b[38;5;241m=\u001b[39m {ticker: web\u001b[38;5;241m.\u001b[39mget_data_yahoo(ticker)\n\u001b[0;32m      3\u001b[0m             \u001b[38;5;28;01mfor\u001b[39;00m ticker \u001b[38;5;129;01min\u001b[39;00m [\u001b[38;5;124m'\u001b[39m\u001b[38;5;124mAAPL\u001b[39m\u001b[38;5;124m'\u001b[39m, \u001b[38;5;124m'\u001b[39m\u001b[38;5;124mIBM\u001b[39m\u001b[38;5;124m'\u001b[39m, \u001b[38;5;124m'\u001b[39m\u001b[38;5;124mMSFT\u001b[39m\u001b[38;5;124m'\u001b[39m, \u001b[38;5;124m'\u001b[39m\u001b[38;5;124mGOOG\u001b[39m\u001b[38;5;124m'\u001b[39m]}\n\u001b[0;32m      5\u001b[0m price \u001b[38;5;241m=\u001b[39m pd\u001b[38;5;241m.\u001b[39mDataFrame({ticker: data[\u001b[38;5;124m'\u001b[39m\u001b[38;5;124mAdj Close\u001b[39m\u001b[38;5;124m'\u001b[39m]\n\u001b[0;32m      6\u001b[0m                      \u001b[38;5;28;01mfor\u001b[39;00m ticker, data \u001b[38;5;129;01min\u001b[39;00m all_data\u001b[38;5;241m.\u001b[39mitems()})\n\u001b[0;32m      7\u001b[0m volume \u001b[38;5;241m=\u001b[39m pd\u001b[38;5;241m.\u001b[39mDataFrame({ticker: data[\u001b[38;5;124m'\u001b[39m\u001b[38;5;124mVolume\u001b[39m\u001b[38;5;124m'\u001b[39m]\n\u001b[0;32m      8\u001b[0m                       \u001b[38;5;28;01mfor\u001b[39;00m ticker, data \u001b[38;5;129;01min\u001b[39;00m all_data\u001b[38;5;241m.\u001b[39mitems()})\n",
      "File \u001b[1;32m~\\AppData\\Roaming\\Python\\Python312\\site-packages\\pandas_datareader\\data.py:80\u001b[0m, in \u001b[0;36mget_data_yahoo\u001b[1;34m(*args, **kwargs)\u001b[0m\n\u001b[0;32m     79\u001b[0m \u001b[38;5;28;01mdef\u001b[39;00m \u001b[38;5;21mget_data_yahoo\u001b[39m(\u001b[38;5;241m*\u001b[39margs, \u001b[38;5;241m*\u001b[39m\u001b[38;5;241m*\u001b[39mkwargs):\n\u001b[1;32m---> 80\u001b[0m     \u001b[38;5;28;01mreturn\u001b[39;00m YahooDailyReader(\u001b[38;5;241m*\u001b[39margs, \u001b[38;5;241m*\u001b[39m\u001b[38;5;241m*\u001b[39mkwargs)\u001b[38;5;241m.\u001b[39mread()\n",
      "File \u001b[1;32m~\\AppData\\Roaming\\Python\\Python312\\site-packages\\pandas_datareader\\base.py:253\u001b[0m, in \u001b[0;36m_DailyBaseReader.read\u001b[1;34m(self)\u001b[0m\n\u001b[0;32m    251\u001b[0m \u001b[38;5;66;03m# If a single symbol, (e.g., 'GOOG')\u001b[39;00m\n\u001b[0;32m    252\u001b[0m \u001b[38;5;28;01mif\u001b[39;00m \u001b[38;5;28misinstance\u001b[39m(\u001b[38;5;28mself\u001b[39m\u001b[38;5;241m.\u001b[39msymbols, (string_types, \u001b[38;5;28mint\u001b[39m)):\n\u001b[1;32m--> 253\u001b[0m     df \u001b[38;5;241m=\u001b[39m \u001b[38;5;28mself\u001b[39m\u001b[38;5;241m.\u001b[39m_read_one_data(\u001b[38;5;28mself\u001b[39m\u001b[38;5;241m.\u001b[39murl, params\u001b[38;5;241m=\u001b[39m\u001b[38;5;28mself\u001b[39m\u001b[38;5;241m.\u001b[39m_get_params(\u001b[38;5;28mself\u001b[39m\u001b[38;5;241m.\u001b[39msymbols))\n\u001b[0;32m    254\u001b[0m \u001b[38;5;66;03m# Or multiple symbols, (e.g., ['GOOG', 'AAPL', 'MSFT'])\u001b[39;00m\n\u001b[0;32m    255\u001b[0m \u001b[38;5;28;01melif\u001b[39;00m \u001b[38;5;28misinstance\u001b[39m(\u001b[38;5;28mself\u001b[39m\u001b[38;5;241m.\u001b[39msymbols, DataFrame):\n",
      "File \u001b[1;32m~\\AppData\\Roaming\\Python\\Python312\\site-packages\\pandas_datareader\\yahoo\\daily.py:152\u001b[0m, in \u001b[0;36mYahooDailyReader._read_one_data\u001b[1;34m(self, url, params)\u001b[0m\n\u001b[0;32m    150\u001b[0m ptrn \u001b[38;5;241m=\u001b[39m \u001b[38;5;124mr\u001b[39m\u001b[38;5;124m\"\u001b[39m\u001b[38;5;124mroot\u001b[39m\u001b[38;5;124m\\\u001b[39m\u001b[38;5;124m.App\u001b[39m\u001b[38;5;124m\\\u001b[39m\u001b[38;5;124m.main = (.*?);\u001b[39m\u001b[38;5;124m\\\u001b[39m\u001b[38;5;124mn}\u001b[39m\u001b[38;5;124m\\\u001b[39m\u001b[38;5;124m(this\u001b[39m\u001b[38;5;124m\\\u001b[39m\u001b[38;5;124m)\u001b[39m\u001b[38;5;124m\\\u001b[39m\u001b[38;5;124m);\u001b[39m\u001b[38;5;124m\"\u001b[39m\n\u001b[0;32m    151\u001b[0m \u001b[38;5;28;01mtry\u001b[39;00m:\n\u001b[1;32m--> 152\u001b[0m     j \u001b[38;5;241m=\u001b[39m json\u001b[38;5;241m.\u001b[39mloads(re\u001b[38;5;241m.\u001b[39msearch(ptrn, resp\u001b[38;5;241m.\u001b[39mtext, re\u001b[38;5;241m.\u001b[39mDOTALL)\u001b[38;5;241m.\u001b[39mgroup(\u001b[38;5;241m1\u001b[39m))\n\u001b[0;32m    153\u001b[0m     data \u001b[38;5;241m=\u001b[39m j[\u001b[38;5;124m\"\u001b[39m\u001b[38;5;124mcontext\u001b[39m\u001b[38;5;124m\"\u001b[39m][\u001b[38;5;124m\"\u001b[39m\u001b[38;5;124mdispatcher\u001b[39m\u001b[38;5;124m\"\u001b[39m][\u001b[38;5;124m\"\u001b[39m\u001b[38;5;124mstores\u001b[39m\u001b[38;5;124m\"\u001b[39m][\u001b[38;5;124m\"\u001b[39m\u001b[38;5;124mHistoricalPriceStore\u001b[39m\u001b[38;5;124m\"\u001b[39m]\n\u001b[0;32m    154\u001b[0m \u001b[38;5;28;01mexcept\u001b[39;00m \u001b[38;5;167;01mKeyError\u001b[39;00m:\n",
      "\u001b[1;31mAttributeError\u001b[0m: 'NoneType' object has no attribute 'group'"
     ]
    }
   ],
   "source": [
    "import pandas_datareader.data as web\n",
    "all_data = {ticker: web.get_data_yahoo(ticker)\n",
    "            for ticker in ['AAPL', 'IBM', 'MSFT', 'GOOG']}\n",
    "\n",
    "price = pd.DataFrame({ticker: data['Adj Close']\n",
    "                     for ticker, data in all_data.items()})\n",
    "volume = pd.DataFrame({ticker: data['Volume']\n",
    "                      for ticker, data in all_data.items()})"
   ]
  },
  {
   "cell_type": "code",
   "execution_count": null,
   "id": "a72ab7cb-70a7-4896-89cd-79b1dabc13a4",
   "metadata": {},
   "outputs": [],
   "source": []
  }
 ],
 "metadata": {
  "kernelspec": {
   "display_name": "Python [conda env:base] *",
   "language": "python",
   "name": "conda-base-py"
  },
  "language_info": {
   "codemirror_mode": {
    "name": "ipython",
    "version": 3
   },
   "file_extension": ".py",
   "mimetype": "text/x-python",
   "name": "python",
   "nbconvert_exporter": "python",
   "pygments_lexer": "ipython3",
   "version": "3.12.7"
  }
 },
 "nbformat": 4,
 "nbformat_minor": 5
}
